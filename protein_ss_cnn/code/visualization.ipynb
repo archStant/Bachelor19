{
 "cells": [
  {
   "cell_type": "code",
   "execution_count": null,
   "metadata": {},
   "outputs": [],
   "source": [
    "import numpy as np\n",
    "import datetime\n",
    "import matplotlib.pyplot as plt\n",
    "import matplotlib\n",
    "\n",
    "from pathlib import Path"
   ]
  },
  {
   "cell_type": "code",
   "execution_count": null,
   "metadata": {},
   "outputs": [],
   "source": [
    "#matplotlib.rcParams['figure.figsize'] = (12,7) # Til rapport\n",
    "matplotlib.rcParams['figure.figsize'] = (20,10) # Til undervejs"
   ]
  },
  {
   "cell_type": "markdown",
   "metadata": {},
   "source": [
    "# Hent værdier\n",
    "Kør alle cellerne i hhv. main.ipynb, solvent_main.ipynb og multi_main.ipynb først.\n",
    "Check desuden at alle listerne er lige lange."
   ]
  },
  {
   "cell_type": "markdown",
   "metadata": {},
   "source": [
    "### Single-task secondary structures"
   ]
  },
  {
   "cell_type": "code",
   "execution_count": null,
   "metadata": {},
   "outputs": [],
   "source": [
    "%store -r v_accuracies_single\n",
    "%store -r t_accuracies_single\n",
    "%store -r steps_cum"
   ]
  },
  {
   "cell_type": "markdown",
   "metadata": {},
   "source": [
    "### Multi-task secondary structures og solvent egenskaber"
   ]
  },
  {
   "cell_type": "code",
   "execution_count": null,
   "metadata": {},
   "outputs": [],
   "source": [
    "%store -r rel_accs_v_multi\n",
    "%store -r rel_accs_t_multi\n",
    "%store -r abs_accs_v_multi\n",
    "%store -r abs_accs_t_multi\n",
    "%store -r acc_struct_v_multi\n",
    "%store -r acc_struct_t_multi"
   ]
  },
  {
   "cell_type": "markdown",
   "metadata": {},
   "source": [
    "### Single-task solvent egenskaber"
   ]
  },
  {
   "cell_type": "code",
   "execution_count": null,
   "metadata": {},
   "outputs": [],
   "source": [
    "%store -r solv_rel_accs_v  \n",
    "%store -r solv_rel_accs_t  \n",
    "%store -r solv_abs_accs_v  \n",
    "%store -r solv_abs_accs_t"
   ]
  },
  {
   "cell_type": "markdown",
   "metadata": {},
   "source": [
    "### Epoker"
   ]
  },
  {
   "cell_type": "code",
   "execution_count": null,
   "metadata": {},
   "outputs": [],
   "source": [
    "%store -r epochs"
   ]
  },
  {
   "cell_type": "markdown",
   "metadata": {},
   "source": [
    "# Check af integritet\n",
    "Hvis ikke denne evaluerer til 'True' så er noget gået galt med opsamling eller gemning af data."
   ]
  },
  {
   "cell_type": "code",
   "execution_count": null,
   "metadata": {},
   "outputs": [],
   "source": [
    "print(len(v_accuracies_single) == len(t_accuracies_single) == len(steps_cum) == len(rel_accs_v_multi) == len(rel_accs_t_multi) == len(abs_accs_v_multi) == len(abs_accs_t_multi) == len(acc_struct_v_multi) == len(acc_struct_t_multi) == len(solv_rel_accs_v) == len(solv_rel_accs_t) == len(solv_abs_accs_v) == len(solv_abs_accs_t) == len(epochs))"
   ]
  },
  {
   "cell_type": "markdown",
   "metadata": {},
   "source": [
    "# Visualisering og højeste punkter\n",
    "## Sekundærstrukturer"
   ]
  },
  {
   "cell_type": "code",
   "execution_count": null,
   "metadata": {},
   "outputs": [],
   "source": [
    "singlevals_t = t_accuracies_single\n",
    "multivals_t = acc_struct_t_multi\n",
    "\n",
    "singlevals_v = v_accuracies_single\n",
    "multivals_v = acc_struct_v_multi\n",
    "\n",
    "\n",
    "ss_best_multi_test_index   = np.argmax(multivals_t)\n",
    "ss_best_single_test_index  = np.argmax(singlevals_t)\n",
    "ss_best_multi_test         = multivals_t[ss_best_multi_test_index]\n",
    "ss_best_single_test        = singlevals_t[ss_best_single_test_index]\n",
    "ss_best_multi_test_step    = steps_cum[ss_best_multi_test_index]\n",
    "ss_best_single_test_step   = steps_cum[ss_best_single_test_index]\n",
    "ss_best_multi_test_epoch   = int(ss_best_multi_test_step/1355)\n",
    "ss_best_single_test_epoch  = int(ss_best_single_test_step/1355)\n",
    "\n",
    "ss_best_multi_valid_index   = np.argmax(multivals_v)\n",
    "ss_best_single_valid_index  = np.argmax(singlevals_v)\n",
    "ss_best_multi_valid         = multivals_v[ss_best_multi_valid_index]\n",
    "ss_best_single_valid        = singlevals_v[ss_best_single_valid_index]\n",
    "ss_best_multi_valid_step    = steps_cum[ss_best_multi_valid_index]\n",
    "ss_best_single_valid_step   = steps_cum[ss_best_single_valid_index]\n",
    "ss_best_multi_valid_epoch   = int(ss_best_multi_valid_step/1355)\n",
    "ss_best_single_valid_epoch  = int(ss_best_single_valid_step/1355)\n",
    "\n",
    "ss_peaksx = [ss_best_multi_test_step, ss_best_single_test_step]\n",
    "ss_peaksy = [ss_best_multi_test, ss_best_single_test]\n",
    "\n",
    "print('\\t\\tSingle\\t\\t\\t\\tMulti\\n(Epoch\\tValid)\\t(Epoch\\tTest)\\t\\t(Epoch\\tValid)\\t(Epoch\\tTest)')\n",
    "print('(%d\\t%.3f%%\\t%d\\t%.3f%%)\\t(%d\\t%.3f%%\\t%d\\t%.3f%%)' % (ss_best_single_valid_epoch, ss_best_single_valid*100, ss_best_single_test_epoch, ss_best_single_test*100, ss_best_multi_valid_epoch, ss_best_multi_valid*100, ss_best_multi_test_epoch, ss_best_multi_test*100))\n"
   ]
  },
  {
   "cell_type": "code",
   "execution_count": null,
   "metadata": {},
   "outputs": [],
   "source": [
    "savefile = 0\n",
    "filename = '../graphs/final_secondary_big.png'\n",
    "\n",
    "offset = 10\n",
    "\n",
    "LW=2\n",
    "plt.plot(steps_cum[offset:], v_accuracies_single[offset:], label='Single-task, validation', c='r', alpha=0.3)#, lw=LW)\n",
    "plt.plot(steps_cum[offset:], t_accuracies_single[offset:], label='Single-task, test', c='r', alpha=1)#, lw=LW)\n",
    "plt.axhline(y=ss_best_single_test, label='Best performing single-task', ls='--', c='r')\n",
    "\n",
    "plt.plot(steps_cum[offset:], acc_struct_v_multi[offset:], label='Multi-task, validation', c='b', alpha=0.3)#, lw=LW)\n",
    "plt.plot(steps_cum[offset:], acc_struct_t_multi[offset:], label='Multi-task, test', c='b', alpha=1)#, lw=LW)\n",
    "plt.axhline(y=ss_best_multi_test, label='Best performing multi-task', ls='--', c='b')\n",
    "\n",
    "\n",
    "for i in epochs:\n",
    "    plt.axvline(x=i, alpha=0.25, c='g')\n",
    "    \n",
    "\n",
    "plt.scatter(ss_peaksx, ss_peaksy, c='green', marker='x', s=250, lw=3, label='Peaks')\n",
    "\n",
    "\n",
    "plt.title('Secondary structure prediction')\n",
    "plt.xlabel('Training steps')\n",
    "plt.ylabel('Accuracy')\n",
    "plt.legend(prop={'size': 15})\n",
    "\n",
    "if savefile:\n",
    "    my_file = Path(filename)\n",
    "    if my_file.is_file():\n",
    "        print('Filen findes allerede')\n",
    "    else:\n",
    "        print('Gemmer som:', filename)\n",
    "        plt.savefig(filename)\n"
   ]
  },
  {
   "cell_type": "markdown",
   "metadata": {},
   "source": [
    "## Relative solvent accesibility"
   ]
  },
  {
   "cell_type": "code",
   "execution_count": null,
   "metadata": {},
   "outputs": [],
   "source": [
    "singlevals_t = solv_rel_accs_t\n",
    "multivals_t = rel_accs_t_multi\n",
    "\n",
    "singlevals_v = solv_rel_accs_v\n",
    "multivals_v = rel_accs_v_multi\n",
    "\n",
    "\n",
    "rel_best_multi_test_index   = np.argmax(multivals_t)\n",
    "rel_best_single_test_index  = np.argmax(singlevals_t)\n",
    "rel_best_multi_test         = multivals_t[rel_best_multi_test_index]\n",
    "rel_best_single_test        = singlevals_t[rel_best_single_test_index]\n",
    "rel_best_multi_test_step    = steps_cum[rel_best_multi_test_index]\n",
    "rel_best_single_test_step   = steps_cum[rel_best_single_test_index]\n",
    "rel_best_multi_test_epoch   = int(rel_best_multi_test_step/1355)\n",
    "rel_best_single_test_epoch  = int(rel_best_single_test_step/1355)\n",
    "\n",
    "rel_best_multi_valid_index   = np.argmax(multivals_v)\n",
    "rel_best_single_valid_index  = np.argmax(singlevals_v)\n",
    "rel_best_multi_valid         = multivals_v[rel_best_multi_valid_index]\n",
    "rel_best_single_valid        = singlevals_v[rel_best_single_valid_index]\n",
    "rel_best_multi_valid_step    = steps_cum[rel_best_multi_valid_index]\n",
    "rel_best_single_valid_step   = steps_cum[rel_best_single_valid_index]\n",
    "rel_best_multi_valid_epoch   = int(rel_best_multi_valid_step/1355)\n",
    "rel_best_single_valid_epoch  = int(rel_best_single_valid_step/1355)\n",
    "\n",
    "rel_peaksx = [rel_best_multi_test_step, rel_best_single_test_step]\n",
    "rel_peaksy = [rel_best_multi_test, rel_best_single_test]\n",
    "\n",
    "print('\\t\\tSingle\\t\\t\\t\\tMulti\\n(Epoch\\tValid)\\t(Epoch\\tTest)\\t\\t(Epoch\\tValid)\\t(Epoch\\tTest)')\n",
    "print('(%d\\t%.3f%%\\t%d\\t%.3f%%)\\t(%d\\t%.3f%%\\t%d\\t%.3f%%)' % (rel_best_single_valid_epoch, rel_best_single_valid*100, rel_best_single_test_epoch, rel_best_single_test*100, rel_best_multi_valid_epoch, rel_best_multi_valid*100, rel_best_multi_test_epoch, rel_best_multi_test*100))"
   ]
  },
  {
   "cell_type": "code",
   "execution_count": null,
   "metadata": {},
   "outputs": [],
   "source": [
    "savefile = 0\n",
    "filename = '../graphs/rel_final_big.png'\n",
    "\n",
    "LW=2\n",
    "plt.plot(steps_cum[3:], solv_rel_accs_v[3:], label='Single-task, validation', c='r', alpha=0.3)#, lw=LW)\n",
    "plt.plot(steps_cum[3:], solv_rel_accs_t[3:], label='Single-task, test', c='r', alpha=1)#, lw=LW)\n",
    "plt.axhline(y=rel_best_single_test, label='Best performing single-task', ls='--', c='r')\n",
    "plt.plot(steps_cum[3:], rel_accs_v_multi[3:], label='Multi-task, validation', c='b', alpha=0.3)#, lw=LW)\n",
    "plt.plot(steps_cum[3:], rel_accs_t_multi[3:], label='Multi-task, test', c='b', alpha=1)#, lw=LW)\n",
    "plt.axhline(y=rel_best_multi_test, label='Best performing multi-task', ls='--', c='b')\n",
    "\n",
    "for i in epochs:\n",
    "    plt.axvline(x=i, alpha=0.25, c='g')\n",
    "    \n",
    "\n",
    "plt.scatter(rel_peaksx, rel_peaksy, c='green', marker='x', s=250, lw=3, label='Peaks')\n",
    "\n",
    "\n",
    "plt.title('Relative solvent access prediction')\n",
    "plt.xlabel('Training steps')\n",
    "plt.ylabel('Accuracy')\n",
    "plt.legend(prop={'size': 15})\n",
    "if savefile:\n",
    "    my_file = Path(filename)\n",
    "    if my_file.is_file():\n",
    "        print('Filen findes allerede')\n",
    "    else:\n",
    "        print('Gemmer som:', filename)\n",
    "        plt.savefig(filename)\n"
   ]
  },
  {
   "cell_type": "markdown",
   "metadata": {},
   "source": [
    "## Absolute solvent accessibility"
   ]
  },
  {
   "cell_type": "code",
   "execution_count": null,
   "metadata": {},
   "outputs": [],
   "source": [
    "singlevals_t = solv_abs_accs_t\n",
    "multivals_t = abs_accs_t_multi\n",
    "\n",
    "singlevals_v = solv_abs_accs_v\n",
    "multivals_v = abs_accs_v_multi\n",
    "\n",
    "\n",
    "abs_best_multi_test_index   = np.argmax(multivals_t)\n",
    "abs_best_single_test_index  = np.argmax(singlevals_t)\n",
    "abs_best_multi_test         = multivals_t[abs_best_multi_test_index]\n",
    "abs_best_single_test        = singlevals_t[abs_best_single_test_index]\n",
    "abs_best_multi_test_step    = steps_cum[abs_best_multi_test_index]\n",
    "abs_best_single_test_step   = steps_cum[abs_best_single_test_index]\n",
    "abs_best_multi_test_epoch   = int(abs_best_multi_test_step/1355)\n",
    "abs_best_single_test_epoch  = int(abs_best_single_test_step/1355)\n",
    "\n",
    "abs_best_multi_valid_index   = np.argmax(multivals_v)\n",
    "abs_best_single_valid_index  = np.argmax(singlevals_v)\n",
    "abs_best_multi_valid         = multivals_v[abs_best_multi_valid_index]\n",
    "abs_best_single_valid        = singlevals_v[abs_best_single_valid_index]\n",
    "abs_best_multi_valid_step    = steps_cum[abs_best_multi_valid_index]\n",
    "abs_best_single_valid_step   = steps_cum[abs_best_single_valid_index]\n",
    "abs_best_multi_valid_epoch   = int(abs_best_multi_valid_step/1355)\n",
    "abs_best_single_valid_epoch  = int(abs_best_single_valid_step/1355)\n",
    "\n",
    "abs_peaksx = [abs_best_multi_test_step, abs_best_single_test_step]\n",
    "abs_peaksy = [abs_best_multi_test, abs_best_single_test]\n",
    "\n",
    "print('\\t\\tSingle\\t\\t\\t\\t\\tMulti\\n(Epoch\\tValid)\\t(Epoch\\tTest)\\t\\t(Epoch\\tValid)\\t\\t(Epoch\\tTest)')\n",
    "print('(%d\\t%.3f%%\\t%d\\t%.3f%%)\\t(%d\\t%.3f%%\\t%d\\t%.3f%%)' % (abs_best_single_valid_epoch, abs_best_single_valid*100, abs_best_single_test_epoch, abs_best_single_test*100, abs_best_multi_valid_epoch, abs_best_multi_valid*100, abs_best_multi_test_epoch, abs_best_multi_test*100))"
   ]
  },
  {
   "cell_type": "code",
   "execution_count": null,
   "metadata": {},
   "outputs": [],
   "source": [
    "savefile = 0\n",
    "filename = '../graphs/abs_final_big.png'\n",
    "\n",
    "LW=2\n",
    "plt.plot(steps_cum[3:], solv_abs_accs_v[3:], label='Single-task, validation', c='r', alpha=0.3)#, lw=LW)\n",
    "plt.plot(steps_cum[3:], solv_abs_accs_t[3:], label='Single-task, test', c='r', alpha=1)#, lw=LW)\n",
    "plt.axhline(y=abs_best_single_test, label='Best performing single-task', ls='--', c='r')\n",
    "plt.plot(steps_cum[3:], abs_accs_v_multi[3:], label='Multi-task, validation', c='b', alpha=0.3)#, lw=LW)\n",
    "plt.plot(steps_cum[3:], abs_accs_t_multi[3:], label='Multi-task, test', c='b', alpha=1)#, lw=LW)\n",
    "plt.axhline(y=abs_best_multi_test, label='Best performing multi-task', ls='--', c='b')\n",
    "\n",
    "for i in epochs:\n",
    "    plt.axvline(x=i, alpha=0.25, c='g')\n",
    "    \n",
    "plt.scatter(abs_peaksx, abs_peaksy, c='green', marker='x', s=250, lw=3, label='Peaks')\n",
    "\n",
    "plt.title('Absolute solvent access prediction')\n",
    "plt.xlabel('Training steps')\n",
    "plt.ylabel('Accuracy')\n",
    "plt.legend(prop={'size': 15})\n",
    "if savefile:\n",
    "    my_file = Path(filename)\n",
    "    if my_file.is_file():\n",
    "        print('Filen findes allerede')\n",
    "    else:\n",
    "        print('Gemmer som:', filename)\n",
    "        plt.savefig(filename)\n"
   ]
  }
 ],
 "metadata": {
  "kernelspec": {
   "display_name": "Python 3",
   "language": "python",
   "name": "python3"
  },
  "language_info": {
   "codemirror_mode": {
    "name": "ipython",
    "version": 3
   },
   "file_extension": ".py",
   "mimetype": "text/x-python",
   "name": "python",
   "nbconvert_exporter": "python",
   "pygments_lexer": "ipython3",
   "version": "3.6.7"
  }
 },
 "nbformat": 4,
 "nbformat_minor": 2
}
