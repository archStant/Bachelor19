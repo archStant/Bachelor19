{
 "cells": [
  {
   "cell_type": "code",
   "execution_count": 1,
   "metadata": {},
   "outputs": [],
   "source": [
    "import numpy as np\n",
    "import datetime\n",
    "import matplotlib.pyplot as plt\n",
    "import matplotlib\n",
    "\n",
    "import os\n",
    "import sys\n",
    "import datetime\n",
    "\n",
    "#import pandas as pd # to read csv and handle dataframe\n",
    "\n",
    "import torch\n",
    "import torch.nn as nn\n",
    "import torch.nn.functional as F\n",
    "import torch.utils.data\n",
    "from torch.autograd import Variable\n",
    "\n",
    "\n",
    "import torchvision\n",
    "import torchvision.transforms as transforms"
   ]
  },
  {
   "cell_type": "code",
   "execution_count": 2,
   "metadata": {},
   "outputs": [],
   "source": [
    "#matplotlib.rcParams['figure.figsize'] = (12,7) # Til rapport\n",
    "matplotlib.rcParams['figure.figsize'] = (20,10) # Til undervejs"
   ]
  },
  {
   "cell_type": "code",
   "execution_count": 3,
   "metadata": {},
   "outputs": [
    {
     "name": "stdout",
     "output_type": "stream",
     "text": [
      "9.0.176\n",
      "cuda:0\n"
     ]
    }
   ],
   "source": [
    "device = torch.device('cuda:0' if torch.cuda.is_available() else 'cpu')\n",
    "#device = torch.device('cpu')\n",
    "print(torch.version.cuda)\n",
    "print(device)\n",
    "#Ikke i brug endnu"
   ]
  },
  {
   "cell_type": "markdown",
   "metadata": {},
   "source": [
    "## Kode til at gemme modeltilstande"
   ]
  },
  {
   "cell_type": "code",
   "execution_count": 4,
   "metadata": {},
   "outputs": [],
   "source": [
    "def SaveState(model):\n",
    "    x = datetime.datetime.now()\n",
    "    filename = '../checkpoints/multi_model_state_%s.pt' % (x.strftime(\"%Y%m%d-%H%M\"))\n",
    "    torch.save(model.state_dict(), filename)\n",
    "    print('Model saved as:\\n%s' % os.path.abspath(filename))\n",
    "    \n",
    "def LoadState(filename):\n",
    "    model = torch.load(filename)\n",
    "    model.eval()\n",
    "    return model"
   ]
  },
  {
   "cell_type": "markdown",
   "metadata": {},
   "source": [
    "## Indlæs data\n",
    "Det antages at dataen ligger i `'../data'`"
   ]
  },
  {
   "cell_type": "code",
   "execution_count": 5,
   "metadata": {},
   "outputs": [],
   "source": [
    "data_raw = np.load('../data/cullpdb+profile_5926.npy')"
   ]
  },
  {
   "cell_type": "markdown",
   "metadata": {},
   "source": [
    "## Omform data"
   ]
  },
  {
   "cell_type": "code",
   "execution_count": 6,
   "metadata": {},
   "outputs": [],
   "source": [
    "data = data_raw.reshape((-1,700,57))"
   ]
  },
  {
   "cell_type": "code",
   "execution_count": 7,
   "metadata": {},
   "outputs": [],
   "source": [
    "amino_acid_recidues  = data[...,:22]\n",
    "amino_seq_profiles   = data[...,35:]\n",
    "sec_structure_labels = data[...,22:31]\n",
    "sec_structure_actual_labels = np.argmax(sec_structure_labels, axis=2).reshape((-1, 700, 1))\n",
    "solvent_access       = data[...,33:35]\n",
    "\n",
    "a = sec_structure_actual_labels.reshape((-1, 700, 1))\n",
    "b = np.concatenate((a, solvent_access), axis=2)\n",
    "\n",
    "ext_x = np.concatenate((amino_acid_recidues, amino_seq_profiles), axis=2)\n",
    "ext_y = np.concatenate((sec_structure_actual_labels, solvent_access), axis=2)\n",
    "\n",
    "x = ext_x\n",
    "y = ext_y\n",
    "#x = amino_acid_recidues\n",
    "#y = sec_structure_labels\n",
    "#y = solvent_access\n",
    "\n",
    "input_channels  = x.shape[2]\n",
    "output_channels = y.shape[2]\n",
    "\n",
    "print('Kanaler:\\nInput:  %d\\nOutput: %d' % (input_channels, output_channels))\n",
    "\n",
    "print('Fuldt datasæt shape:')\n",
    "print('X: ', x.shape)\n",
    "print('Y: ', y.shape)\n",
    "\n",
    "y_train_unrot = y[:5430]\n",
    "y_test_unrot = y[5435:5690]\n",
    "y_validation_unrot = y[5690:5926]\n",
    "\n",
    "#x = x.reshape(-1,22,700)\n",
    "#y = y.reshape(-1,9,700)\n",
    "x = np.rot90(x, axes=(1,2))\n",
    "y = np.rot90(y, axes=(1,2))\n",
    "\n",
    "x = np.flip(x, 1)\n",
    "y = np.flip(y, 1)\n",
    "\n",
    "print('Fuldt datasæt vendt shape:')\n",
    "print('X: ', x.shape)\n",
    "print('Y: ', y.shape)\n",
    "\n",
    "x_train = x[:5430]\n",
    "y_train = y[:5430]\n",
    "\n",
    "x_test = x[5435:5690]\n",
    "y_test = y[5435:5690]\n",
    "\n",
    "x_validation = x[5690:5926]\n",
    "y_validation = y[5690:5926]\n",
    "\n",
    "print('Splittet ud i training og testing:')\n",
    "print('(Train) X: ', x_train.shape)\n",
    "print('(Train) Y: ', y_train.shape)\n",
    "print('(Test)  X: ', x_test.shape)\n",
    "print('(Test)  Y: ', y_test.shape)\n",
    "print('(Validation)  X: ', x_validation.shape)\n",
    "print('(Validation)  Y: ', y_validation.shape)\n",
    "\n",
    "torch_X_train = torch.from_numpy(x_train).type(torch.FloatTensor).to(device)\n",
    "torch_Y_train = torch.from_numpy(y_train).type(torch.LongTensor).to(device)\n",
    "torch_X_test  = torch.from_numpy(x_test).type(torch.FloatTensor).to(device)\n",
    "torch_Y_test  = torch.from_numpy(y_test).type(torch.LongTensor).to(device)\n",
    "torch_X_validation  = torch.from_numpy(x_validation).type(torch.FloatTensor).to(device)\n",
    "torch_Y_validation  = torch.from_numpy(y_validation).type(torch.LongTensor).to(device)"
   ]
  },
  {
   "cell_type": "code",
   "execution_count": null,
   "metadata": {},
   "outputs": [],
   "source": []
  },
  {
   "cell_type": "markdown",
   "metadata": {},
   "source": [
    "## Sæt data sammen i DataLoader"
   ]
  },
  {
   "cell_type": "code",
   "execution_count": 11,
   "metadata": {},
   "outputs": [],
   "source": [
    "BATCH_SIZE = 5 # 250 har virket godt før\n",
    "\n",
    "train = torch.utils.data.TensorDataset(torch_X_train, torch_Y_train)\n",
    "train_loader = torch.utils.data.DataLoader(dataset=train, batch_size=BATCH_SIZE, shuffle=True)"
   ]
  },
  {
   "cell_type": "markdown",
   "metadata": {},
   "source": [
    "## Definér modellen"
   ]
  },
  {
   "cell_type": "code",
   "execution_count": 46,
   "metadata": {},
   "outputs": [],
   "source": [
    "class CNN(nn.Module):\n",
    "    def __init__(self):\n",
    "        super(CNN, self).__init__()\n",
    "        self.conv1 = nn.Sequential(\n",
    "            nn.Conv1d(\n",
    "                in_channels=input_channels,       \n",
    "                out_channels=layer_widths[0],      \n",
    "                kernel_size=kernel_sizes[0],        \n",
    "                stride=1,             \n",
    "                padding=int(kernel_sizes[0]/2),            \n",
    "            ),                        \n",
    "            nn.ReLU(),                \n",
    "        )\n",
    "        self.conv2 = nn.Sequential(   \n",
    "            nn.Conv1d(\n",
    "                in_channels=layer_widths[0],       \n",
    "                out_channels=layer_widths[1],      \n",
    "                kernel_size=kernel_sizes[1],        \n",
    "                stride=1,             \n",
    "                padding=int(kernel_sizes[1]/2),            \n",
    "            ),                        \n",
    "            nn.ReLU(),                \n",
    "        )\n",
    "        self.conv3 = nn.Sequential(   \n",
    "            nn.Conv1d(\n",
    "                in_channels=layer_widths[1],       \n",
    "                out_channels=layer_widths[2],      \n",
    "                kernel_size=kernel_sizes[2],        \n",
    "                stride=1,             \n",
    "                padding=int(kernel_sizes[2]/2),            \n",
    "            ),                        \n",
    "            nn.ReLU(),                \n",
    "        )\n",
    "        self.conv4 = nn.Sequential(     \n",
    "            nn.Conv1d(\n",
    "                in_channels=layer_widths[2],       \n",
    "                out_channels=layer_widths[3],       \n",
    "                kernel_size=kernel_sizes[3],\n",
    "                stride=1,             \n",
    "                padding=int(kernel_sizes[3]/2),            \n",
    "            ),\n",
    "            nn.ReLU(),\n",
    "        )\n",
    "        self.conv5 = nn.Sequential(     \n",
    "            nn.Conv1d(\n",
    "                in_channels=layer_widths[3],\n",
    "                out_channels=layer_widths[4],       \n",
    "                kernel_size=kernel_sizes[4],\n",
    "                stride=1,             \n",
    "                padding=int(kernel_sizes[4]/2),            \n",
    "            ),\n",
    "            nn.ReLU(),\n",
    "        )\n",
    "        self.out = nn.Sequential(     \n",
    "            nn.Conv1d(\n",
    "                in_channels=layer_widths[4],       \n",
    "                out_channels=11,       \n",
    "                kernel_size=kernel_sizes[5],\n",
    "                stride=1,             \n",
    "                padding=int(kernel_sizes[5]/2),            \n",
    "            ),\n",
    "            #nn.ReLU(),\n",
    "            #nn.Softmax(dim=1),\n",
    "        )\n",
    "#        self.soft = nn.Softmax(dim=1)\n",
    "#        self.relu = nn.ReLU()\n",
    "#        self.sig1 = torch.nn.Sigmoid()\n",
    "#        self.sig2 = torch.nn.Sigmoid()\n",
    "\n",
    "    def forward(self, x):\n",
    "        x = self.conv1(x)\n",
    "        x = self.conv2(x)\n",
    "        x = self.conv3(x)\n",
    "        x = self.conv4(x)\n",
    "        x = self.conv5(x)\n",
    "        output = self.out(x)\n",
    "        #secondary_structures = self.soft(output[:,:-2,:])\n",
    "        secondary_structures = output[:,:-2,:]\n",
    "        #rel_solvent_acc = self.sig1(output[:,-2,:])\n",
    "        #abs_solvent_acc = self.sig2(output[:,-1,:])\n",
    "        rel_solvent_acc = output[:,-2,:]\n",
    "        abs_solvent_acc = output[:,-1,:]\n",
    "        \n",
    "        return secondary_structures, rel_solvent_acc, abs_solvent_acc "
   ]
  },
  {
   "cell_type": "markdown",
   "metadata": {},
   "source": [
    "## Instantiér modellen"
   ]
  },
  {
   "cell_type": "code",
   "execution_count": 47,
   "metadata": {},
   "outputs": [
    {
     "name": "stdout",
     "output_type": "stream",
     "text": [
      "CNN(\n",
      "  (conv1): Sequential(\n",
      "    (0): Conv1d(44, 80, kernel_size=(5,), stride=(1,), padding=(2,))\n",
      "    (1): ReLU()\n",
      "  )\n",
      "  (conv2): Sequential(\n",
      "    (0): Conv1d(80, 80, kernel_size=(7,), stride=(1,), padding=(3,))\n",
      "    (1): ReLU()\n",
      "  )\n",
      "  (conv3): Sequential(\n",
      "    (0): Conv1d(80, 80, kernel_size=(9,), stride=(1,), padding=(4,))\n",
      "    (1): ReLU()\n",
      "  )\n",
      "  (conv4): Sequential(\n",
      "    (0): Conv1d(80, 80, kernel_size=(11,), stride=(1,), padding=(5,))\n",
      "    (1): ReLU()\n",
      "  )\n",
      "  (conv5): Sequential(\n",
      "    (0): Conv1d(80, 80, kernel_size=(13,), stride=(1,), padding=(6,))\n",
      "    (1): ReLU()\n",
      "  )\n",
      "  (out): Sequential(\n",
      "    (0): Conv1d(80, 11, kernel_size=(15,), stride=(1,), padding=(7,))\n",
      "  )\n",
      ")\n",
      "Model is on device: \"cuda:0\"\n"
     ]
    }
   ],
   "source": [
    "layer_width = 80\n",
    "kernel_size = 11\n",
    "layer_widths = [layer_width]*5\n",
    "kernel_sizes = [5, 7, 9, 11, 13, 15]  # Bedste so far : [5, 21, 11, 5]\n",
    "\n",
    "torch.manual_seed(0)\n",
    "if torch.cuda.is_available():\n",
    "    torch.cuda.manual_seed_all(0)   \n",
    "#cnn = smartCNN(layer_widths, kernel_sizes)#.to(device)\n",
    "cnn = CNN().to(device)\n",
    "print(cnn)\n",
    "print('Model is on device: \"%s\"' % device)\n",
    "# Hyperparametre\n",
    "LR = 0.00025       # learning rate\n",
    "\n",
    "optimizer = torch.optim.Adam(cnn.parameters(), lr=LR)\n",
    "sigge = nn.Sigmoid()\n",
    "#loss_func_train = nn.BCELoss()  #Binary Cross Entropy Loss\n",
    "loss_func_train = nn.CrossEntropyLoss()\n",
    "loss_func_solvent = nn.BCEWithLogitsLoss()\n",
    "#loss_func2 = nn.BCELoss()  #Binary Cross Entropy Loss\n",
    "loss_func_valid = nn.BCELoss()\n",
    "loss_func_test  = nn.BCELoss()"
   ]
  },
  {
   "cell_type": "code",
   "execution_count": 10,
   "metadata": {},
   "outputs": [],
   "source": []
  },
  {
   "cell_type": "markdown",
   "metadata": {},
   "source": [
    "## Funktion til at måle accuracy"
   ]
  },
  {
   "cell_type": "code",
   "execution_count": 33,
   "metadata": {},
   "outputs": [],
   "source": [
    "def CalculateAccuracy(calc_values_structure, calc_values_rel, calc_values_abs, real_values):\n",
    "    NoSeq = 8                                                                     # Hvilken værdi er padding?\n",
    "    real_values_structure = real_values[:,:,0]                                  # Split de korrekte værdier ud i sæt\n",
    "    real_values_relsolv   = real_values[:,:,1]\n",
    "    real_values_abssolv   = real_values[:,:,2]\n",
    "    \n",
    "    #real_labels = real_values_structure\n",
    "    \n",
    "    #real_labels = np.argmax(real_values_structure, axis=2)                        # Kollaps one-hot til rene labels\n",
    "    real_mask = real_values_structure == NoSeq                                              # Lav maske af dem der er NoSeq\n",
    "    \n",
    "    calc_values_structure = calc_values_structure.cpu().detach().numpy()          # Omform til numpy\n",
    "    calc_values_structure = np.flip(calc_values_structure, 1)                     # Omgør spejlning og \n",
    "    calc_values_structure = np.rot90(calc_values_structure, k=-1, axes=(1,2))     # rotation\n",
    "    \n",
    "    calc_relsolv = sigge(calc_values_rel).cpu().detach().numpy()                         # Omform til numpy\n",
    "    #calc_relsolv = np.flip(calc_relsolv, 1)                   # Omgør spejlning og       # Find i øvrigt lige ud af hvorfor de ikke skal rettes!\n",
    "    #calc_relsolv = np.rot90(calc_relsolv, k=-1)#, axes=(1,2))   # rotation\n",
    "    \n",
    "    calc_abssolv = sigge(calc_values_abs).cpu().detach().numpy()                         # Omform til numpy\n",
    "    #calc_abssolv = np.flip(calc_abssolv, 1)                   # Omgør spejlning og \n",
    "    #calc_abssolv = np.rot90(calc_abssolv, k=-1)#, axes=(1,2))   # rotation\n",
    "    \n",
    "    calc_labels  = np.argmax(calc_values_structure, axis=2)                       # Kollaps one-hot til rene labels\n",
    "    calc_relsolv = np.around(calc_relsolv)                                        # Afrund til enten 0 eller 1\n",
    "    calc_abssolv = np.around(calc_abssolv)                                        # Afrund til enten 0 eller 1\n",
    "    \n",
    "    correct_structures = calc_labels == real_labels                               # Lav en matrice af korrekte forudsigelser\n",
    "    correct_structures_masked = np.ma.masked_array(correct_structures, real_mask) # Filtrér dem er er NoSeq\n",
    "    \n",
    "    correct_relsolv = calc_relsolv == real_values_relsolv                         # Lav en matrice af korrekte forudsigelser\n",
    "    correct_relsolv_masked = np.ma.masked_array(correct_relsolv, real_mask)       # Filtrér dem er er NoSeq\n",
    "    \n",
    "    correct_abssolv = calc_abssolv == real_values_abssolv                         # Lav en matrice af korrekte forudsigelser\n",
    "    correct_abssolv_masked = np.ma.masked_array(correct_abssolv, real_mask)       # Filtrér dem er er NoSeq\n",
    "    \n",
    "    structure_mean = np.mean(correct_structures_masked)                           # Tag gennemsnittet af struktur-sættet\n",
    "    relsolv_mean   = np.mean(correct_relsolv_masked)                              # Tag gennemsnittet af relativ solvent-sættet\n",
    "    abssolv_mean   = np.mean(correct_abssolv_masked)                              # Tag gennemsnittet af absolut solvent-sættet\n",
    "    \n",
    "    return structure_mean, relsolv_mean, abssolv_mean"
   ]
  },
  {
   "cell_type": "markdown",
   "metadata": {},
   "source": [
    "## Sammensat loss-funktion\n",
    "Tager som input en loss-funktion (som i dette tilfælde er Binary Cross Entropy), tre beregnede matricer af hhv. sekundærstrukturer og relativ- og absolut solvent accessibility, anvender loss-funktionen på dem alle og returnerer summen."
   ]
  },
  {
   "cell_type": "code",
   "execution_count": 39,
   "metadata": {},
   "outputs": [],
   "source": [
    "def handleLoss(loss_function, calc_struct, calc_rel, calc_abs, correct, verbose=False):\n",
    "    #print(calculated[:,9,:])\n",
    "    #print(second_x)\n",
    "    #first_x  = calculated_struct\n",
    "    #second_x = calculated_rel\n",
    "    #third_x  = calculated_abs\n",
    "    \n",
    "    correct_struct  = correct[:,0,:]\n",
    "    correct_rel     = correct[:,1,:].type(torch.FloatTensor).to(device)\n",
    "    correct_abs     = correct[:,2,:].type(torch.FloatTensor).to(device)\n",
    "    \n",
    "    loss1 = loss_function(calc_struct,  correct_struct)\n",
    "    loss2 = loss_func_solvent(calc_rel, correct_rel)\n",
    "    loss3 = loss_func_solvent(calc_abs,  correct_abs)\n",
    "    if verbose:\n",
    "        print('Secondary structure loss: %.4f' % loss1.item())\n",
    "        print('Relative solvent accessibility loss: %.4f' % loss2.item())\n",
    "        print('Absolute solvent accessibility loss: %.4f' % loss3.item())\n",
    "    loss_sum = (loss1 + loss2 + loss3)\n",
    "    #loss1.backward(retain_graph=True)\n",
    "    #loss3.backward(retain_graph=True)\n",
    "    #loss2.backward(retain_graph=True)\n",
    "    return loss_sum"
   ]
  },
  {
   "cell_type": "markdown",
   "metadata": {},
   "source": [
    "## Endelig test af accuracy"
   ]
  },
  {
   "cell_type": "code",
   "execution_count": null,
   "metadata": {},
   "outputs": [],
   "source": [
    "def TestsetTest(model):\n",
    "    print('Running on the test set:')\n",
    "    a, b, c = model(torch_X_test)\n",
    "    tloss = handleLoss(loss_func_train, a, b, c, torch_Y_test, verbose=True)\n",
    "    x, y, z = CalculateAccuracy(a, b, c, y_test_unrot)\n",
    "    testRes = '%.3f%%, %.3f%%, %.3f%%' % (x*100, y*100, z*100)\n",
    "    #sys.stdout.write('Total loss: %.5f,\\tAccuracy (struct, rel, abs): %.3f%%, %.3f%%, %.3f%%' % (tloss.item(), x*100, y*100, z*100))\n",
    "    return testRes"
   ]
  },
  {
   "cell_type": "code",
   "execution_count": 48,
   "metadata": {},
   "outputs": [],
   "source": [
    "# Til visualisering senere\n",
    "losses       = []\n",
    "acc_structs1 = []\n",
    "acc_structs2 = []\n",
    "acc_structs3 = []\n",
    "acc_structs4 = []\n",
    "acc_structs5 = []\n",
    "acc_structs6 = []\n",
    "acc_structs7 = []\n",
    "acc_structs8 = []\n",
    "acc_rels     = []\n",
    "acc_abss     = []\n",
    "steps        = []"
   ]
  },
  {
   "cell_type": "code",
   "execution_count": 49,
   "metadata": {},
   "outputs": [],
   "source": [
    "steps_cum    = []"
   ]
  },
  {
   "cell_type": "code",
   "execution_count": 50,
   "metadata": {},
   "outputs": [],
   "source": [
    "epochs       = []"
   ]
  },
  {
   "cell_type": "markdown",
   "metadata": {},
   "source": [
    "## Træn modellen"
   ]
  },
  {
   "cell_type": "code",
   "execution_count": 52,
   "metadata": {},
   "outputs": [
    {
     "name": "stdout",
     "output_type": "stream",
     "text": [
      "\n",
      "Epoch:  1\n",
      "Step [1050]:\tTrain:[Loss: 0.70874] \t Validation:[Loss: 0.4952, Accuracies (struc, rel, abs): 68.22%, 82.43%, 80.85%]\n",
      "Epoch:  2\n",
      "Step [1050]:\tTrain:[Loss: 0.36541] \t Validation:[Loss: 0.4897, Accuracies (struc, rel, abs): 68.60%, 82.46%, 81.01%]\n",
      "Epoch:  3\n",
      "Step [1050]:\tTrain:[Loss: 0.39553] \t Validation:[Loss: 0.4809, Accuracies (struc, rel, abs): 69.65%, 82.64%, 81.04%]\n",
      "Epoch:  4\n",
      "Step [1050]:\tTrain:[Loss: 0.49333] \t Validation:[Loss: 0.4749, Accuracies (struc, rel, abs): 70.14%, 82.78%, 81.32%]\n",
      "Epoch:  5\n",
      "Step [1050]:\tTrain:[Loss: 0.34965] \t Validation:[Loss: 0.4736, Accuracies (struc, rel, abs): 70.10%, 82.80%, 81.28%]\n",
      "Done training.\n",
      "Running on the test set:\n",
      "Secondary structure loss: 0.2495\n",
      "Relative solvent accessibility loss: 0.1140\n",
      "Absolute solvent accessibility loss: 0.1253\n",
      "[5, 7, 9, 11, 13, 15]\t70.10%, 82.80%, 81.28% || 70.172%, 82.387%, 80.722%\n",
      "0:01:08.681989\n"
     ]
    }
   ],
   "source": [
    "EPOCH = 5\n",
    "\n",
    "time_start = datetime.datetime.now()\n",
    "\n",
    "#acc_structs6 = []\n",
    "\n",
    "step_cum = -1\n",
    "for epoch in range(EPOCH):\n",
    "    print('\\nEpoch: ', epoch+1)\n",
    "    epochs.append(step_cum)\n",
    "    for step, (b_x, b_y) in enumerate(train_loader):\n",
    "        step_cum += 1\n",
    "        a, b, c = cnn(b_x)\n",
    "        optimizer.zero_grad()           # clear gradients for this training step\n",
    "        loss = handleLoss(loss_func_train, a, b, c, b_y)\n",
    "        loss.backward()                 # backpropagation, compute gradients\n",
    "        optimizer.step()                # apply gradients\n",
    "        if step % 50 == 0:\n",
    "            v_a, v_b, v_c = cnn(torch_X_validation)\n",
    "            vloss = handleLoss(loss_func_train, v_a, v_b, v_c, torch_Y_validation)\n",
    "            acc_struc, acc_rel, acc_abs = CalculateAccuracy(v_a, v_b, v_c, y_validation_unrot)\n",
    "            validresults = '%.2f%%, %.2f%%, %.2f%%' % (acc_struc*100, acc_rel*100, acc_abs*100)\n",
    "            sys.stdout.write('\\rStep [%d]:\\tTrain:[Loss: %.5f] \\t Validation:[Loss: %.4f, Accuracies (struc, rel, abs): %.2f%%, %.2f%%, %.2f%%]' % (step, loss.item(), vloss.item(), acc_struc*100, acc_rel*100, acc_abs*100))\n",
    "            #epochs.append(epoch)\n",
    "            #losses.append(vloss.item())\n",
    "            acc_structs1.append(acc_struc)\n",
    "            #acc_rels.append(acc_rel)\n",
    "            #acc_abss.append(acc_abs)\n",
    "            #steps.append(step)\n",
    "            steps_cum.append(step_cum)\n",
    "            \n",
    "print('\\nDone training.')\n",
    "time_end = datetime.datetime.now()\n",
    "testresults = TestsetTest(cnn)\n",
    "text_to_print = '%s\\t%s || %s' % (str(kernel_sizes), validresults, testresults)\n",
    "print(text_to_print)\n",
    "print(time_end - time_start)"
   ]
  },
  {
   "cell_type": "code",
   "execution_count": 48,
   "metadata": {},
   "outputs": [
    {
     "name": "stdout",
     "output_type": "stream",
     "text": [
      "tensor([ 4.3831,  2.3270,  2.7236,  0.0416,  1.1893,  3.4065,  0.9929, -0.7115,\n",
      "         4.9904,  3.5285,  2.2617,  6.2438,  4.7665,  0.2901,  3.1532,  2.1191,\n",
      "        -2.1507,  0.5586,  3.2473, -1.2888], device='cuda:0',\n",
      "       grad_fn=<SliceBackward>)\n",
      "[[1. 0. 0. ... 0. 1. 1.]\n",
      " [0. 0. 0. ... 0. 1. 1.]\n",
      " [0. 0. 0. ... 0. 1. 1.]\n",
      " ...\n",
      " [0. 0. 0. ... 1. 0. 0.]\n",
      " [0. 0. 0. ... 1. 0. 0.]\n",
      " [0. 0. 0. ... 1. 0. 0.]]\n"
     ]
    }
   ],
   "source": []
  },
  {
   "cell_type": "code",
   "execution_count": 20,
   "metadata": {},
   "outputs": [],
   "source": [
    "#matplotlib.rcParams['figure.figsize'] = (12,7) # Til rapport\n",
    "matplotlib.rcParams['figure.figsize'] = (20,10) # Til undervejs"
   ]
  },
  {
   "cell_type": "code",
   "execution_count": 105,
   "metadata": {},
   "outputs": [],
   "source": [
    "kernel11 = acc_structs4.copy()\n",
    "kernel13 = acc_structs5.copy()"
   ]
  },
  {
   "cell_type": "code",
   "execution_count": 19,
   "metadata": {},
   "outputs": [
    {
     "name": "stdout",
     "output_type": "stream",
     "text": [
      "Running on the test set:\n",
      "Secondary structure loss: 0.0513\n",
      "Relative solvent accessibility loss: 0.1150\n",
      "Absolute solvent accessibility loss: 0.1262\n",
      "68.906%, 82.588%, 80.581%\n"
     ]
    }
   ],
   "source": [
    "testresults = TestsetTest(cnn)\n",
    "print(testresults)"
   ]
  },
  {
   "cell_type": "code",
   "execution_count": 53,
   "metadata": {},
   "outputs": [
    {
     "data": {
      "image/png": "[encoded data removed]",
      "text/plain": [
       "<Figure size 1440x720 with 1 Axes>"
      ]
     },
     "metadata": {},
     "output_type": "display_data"
    }
   ],
   "source": [
    "#steps = np.arange(0, len(acc_structs1)*50, 50)\n",
    "LW=2\n",
    "plt.plot(steps_cum, acc_structs1, label='Kernel sizes: [5, 7, 9, 11, 13, 15]')#, lw=LW)\n",
    "#plt.plot(steps_cum, acc_structs2, label='Kernel sizes: [7, 7, 11, 11, 13, 13]')#, lw=LW)\n",
    "#plt.plot(steps_cum, acc_structs3, label='Kernel sizes: [15, 13, 11, 9, 7, 5]')#, lw=LW)\n",
    "#plt.plot(steps_cum, acc_structs4, label='Kernel sizes: [15, 15, 11, 11, 7, 7]')#, lw=LW)\n",
    "#plt.plot(steps_cum, acc_structs5, label='Kernel sizes: [5, 15, 13, 11, 9, 7]')#, lw=LW)\n",
    "#plt.plot(steps_cum, acc_structs6, label='Kernel sizes: [7, 9, 11, 13, 15, 17]')#, lw=LW)\n",
    "#plt.plot(steps_cum, acc_structs7, label='Kernel sizes: ')#, lw=LW)\n",
    "#plt.plot(steps_cum, kernel11, label='Kernel size: 11')#, lw=LW)\n",
    "#plt.plot(steps_cum, kernel13, label='Kernel sizes: ')#, lw=LW)\n",
    "\n",
    "for i in epochs:\n",
    "    plt.axvline(x=i, alpha=0.25, c='g')\n",
    "\n",
    "plt.title('5 Hidden layers, Layer size: 80, Learning rate: 0.00025')\n",
    "plt.xlabel('Training steps')\n",
    "plt.ylabel('Accuracy (%)')\n",
    "plt.legend(prop={'size': 15})\n",
    "plt.show()\n",
    "#plt.savefig('../graphs/kernel_size_variations_1.png')"
   ]
  },
  {
   "cell_type": "code",
   "execution_count": 22,
   "metadata": {},
   "outputs": [
    {
     "name": "stdout",
     "output_type": "stream",
     "text": [
      "Model saved as:\n",
      "/home/simonsen/Documents/Uni/bachelor/git/Bachelor19/checkpoints/multi_model_state_20190603-1420.pt\n"
     ]
    }
   ],
   "source": [
    "SaveState(cnn)"
   ]
  }
 ],
 "metadata": {
  "kernelspec": {
   "display_name": "Python 3",
   "language": "python",
   "name": "python3"
  },
  "language_info": {
   "codemirror_mode": {
    "name": "ipython",
    "version": 3
   },
   "file_extension": ".py",
   "mimetype": "text/x-python",
   "name": "python",
   "nbconvert_exporter": "python",
   "pygments_lexer": "ipython3",
   "version": "3.6.7"
  }
 },
 "nbformat": 4,
 "nbformat_minor": 2
}
