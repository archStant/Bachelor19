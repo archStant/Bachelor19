{
 "cells": [
  {
   "cell_type": "code",
   "execution_count": 1,
   "metadata": {},
   "outputs": [],
   "source": [
    "import numpy as np\n",
    "import datetime\n",
    "import matplotlib.pyplot as plt\n",
    "import matplotlib\n",
    "\n",
    "import os\n",
    "import sys\n",
    "import datetime\n",
    "from pathlib import Path\n",
    "\n",
    "#import pandas as pd # to read csv and handle dataframe\n",
    "\n",
    "import torch\n",
    "import torch.nn as nn\n",
    "import torch.nn.functional as F\n",
    "import torch.utils.data\n",
    "from torch.autograd import Variable\n",
    "\n",
    "\n",
    "import torchvision\n",
    "import torchvision.transforms as transforms"
   ]
  },
  {
   "cell_type": "code",
   "execution_count": 3,
   "metadata": {},
   "outputs": [],
   "source": [
    "#matplotlib.rcParams['figure.figsize'] = (12,7) # Til rapport\n",
    "matplotlib.rcParams['figure.figsize'] = (20,10) # Til undervejs"
   ]
  },
  {
   "cell_type": "markdown",
   "metadata": {},
   "source": [
    "## Device selection"
   ]
  },
  {
   "cell_type": "code",
   "execution_count": 4,
   "metadata": {},
   "outputs": [
    {
     "name": "stdout",
     "output_type": "stream",
     "text": [
      "9.0.176\n",
      "cuda:0\n"
     ]
    }
   ],
   "source": [
    "device = torch.device('cuda:0' if torch.cuda.is_available() else 'cpu')\n",
    "#device = torch.device('cpu')\n",
    "print(torch.version.cuda)\n",
    "print(device)\n"
   ]
  },
  {
   "cell_type": "markdown",
   "metadata": {},
   "source": [
    "## Kode til at gemme modeltilstande"
   ]
  },
  {
   "cell_type": "code",
   "execution_count": 5,
   "metadata": {},
   "outputs": [],
   "source": [
    "def SaveState(model):\n",
    "    x = datetime.datetime.now()\n",
    "    filename = '../checkpoints/multi_model_state_%s.pt' % (x.strftime(\"%Y%m%d-%H%M\"))\n",
    "    torch.save(model.state_dict(), filename)\n",
    "    print('Model saved as:\\n%s' % os.path.abspath(filename))\n",
    "    \n",
    "def LoadState(filename):\n",
    "    model = torch.load(filename)\n",
    "    model.eval()\n",
    "    return model"
   ]
  },
  {
   "cell_type": "markdown",
   "metadata": {},
   "source": [
    "## Indlæs data\n",
    "Det antages at dataen ligger i `'../data'`"
   ]
  },
  {
   "cell_type": "code",
   "execution_count": 6,
   "metadata": {},
   "outputs": [],
   "source": [
    "data_raw = np.load('../data/cullpdb+profile_5926.npy')"
   ]
  },
  {
   "cell_type": "markdown",
   "metadata": {},
   "source": [
    "## Omform data"
   ]
  },
  {
   "cell_type": "code",
   "execution_count": 7,
   "metadata": {},
   "outputs": [],
   "source": [
    "data = data_raw.reshape((-1,700,57))"
   ]
  },
  {
   "cell_type": "code",
   "execution_count": 8,
   "metadata": {},
   "outputs": [
    {
     "name": "stdout",
     "output_type": "stream",
     "text": [
      "Kanaler:\n",
      "Input:  44\n",
      "Output: 11\n",
      "Fuldt datasæt shape:\n",
      "X:  (5926, 700, 44)\n",
      "Y:  (5926, 700, 3)\n",
      "Fuldt datasæt vendt shape:\n",
      "X:  (5926, 44, 700)\n",
      "Y:  (5926, 3, 700)\n",
      "Splittet ud i training og testing:\n",
      "(Train) X:  (5430, 44, 700)\n",
      "(Train) Y:  (5430, 3, 700)\n",
      "(Test)  X:  (255, 44, 700)\n",
      "(Test)  Y:  (255, 3, 700)\n",
      "(Validation)  X:  (236, 44, 700)\n",
      "(Validation)  Y:  (236, 3, 700)\n",
      "Successfully moved data to device\n"
     ]
    }
   ],
   "source": [
    "amino_acid_recidues  = data[...,:22]\n",
    "amino_seq_profiles   = data[...,35:]\n",
    "sec_structure_labels = data[...,22:31]\n",
    "sec_structure_actual_labels = np.argmax(sec_structure_labels, axis=2).reshape((-1, 700, 1))\n",
    "solvent_access       = data[...,33:35]\n",
    "\n",
    "a = sec_structure_actual_labels.reshape((-1, 700, 1))\n",
    "b = np.concatenate((a, solvent_access), axis=2)\n",
    "\n",
    "ext_x = np.concatenate((amino_acid_recidues, amino_seq_profiles), axis=2)\n",
    "ext_y = np.concatenate((sec_structure_actual_labels, solvent_access), axis=2)\n",
    "\n",
    "x = ext_x\n",
    "y = ext_y\n",
    "#x = amino_acid_recidues\n",
    "#y = sec_structure_labels\n",
    "#y = solvent_access\n",
    "\n",
    "input_channels  = x.shape[2]\n",
    "output_channels = 11\n",
    "\n",
    "print('Kanaler:\\nInput:  %d\\nOutput: %d' % (input_channels, output_channels))\n",
    "\n",
    "print('Fuldt datasæt shape:')\n",
    "print('X: ', x.shape)\n",
    "print('Y: ', y.shape)\n",
    "\n",
    "y_train_unrot = y[:5430]\n",
    "y_test_unrot = y[5435:5690]\n",
    "y_validation_unrot = y[5690:5926]\n",
    "\n",
    "#x = x.reshape(-1,22,700)\n",
    "#y = y.reshape(-1,9,700)\n",
    "x = np.rot90(x, axes=(1,2))\n",
    "y = np.rot90(y, axes=(1,2))\n",
    "\n",
    "x = np.flip(x, 1)\n",
    "y = np.flip(y, 1)\n",
    "\n",
    "print('Fuldt datasæt vendt shape:')\n",
    "print('X: ', x.shape)\n",
    "print('Y: ', y.shape)\n",
    "\n",
    "x_train = x[:5430]\n",
    "y_train = y[:5430]\n",
    "\n",
    "x_test = x[5435:5690]\n",
    "y_test = y[5435:5690]\n",
    "\n",
    "x_validation = x[5690:5926]\n",
    "y_validation = y[5690:5926]\n",
    "\n",
    "print('Splittet ud i training og testing:')\n",
    "print('(Train) X: ', x_train.shape)\n",
    "print('(Train) Y: ', y_train.shape)\n",
    "print('(Test)  X: ', x_test.shape)\n",
    "print('(Test)  Y: ', y_test.shape)\n",
    "print('(Validation)  X: ', x_validation.shape)\n",
    "print('(Validation)  Y: ', y_validation.shape)\n",
    "\n",
    "torch_X_train = torch.from_numpy(x_train).type(torch.FloatTensor).to(device)\n",
    "torch_Y_train = torch.from_numpy(y_train).type(torch.LongTensor).to(device)\n",
    "torch_X_test  = torch.from_numpy(x_test).type(torch.FloatTensor).to(device)\n",
    "torch_Y_test  = torch.from_numpy(y_test).type(torch.LongTensor).to(device)\n",
    "torch_X_validation  = torch.from_numpy(x_validation).type(torch.FloatTensor).to(device)\n",
    "torch_Y_validation  = torch.from_numpy(y_validation).type(torch.LongTensor).to(device)\n",
    "print('Successfully moved data to device')"
   ]
  },
  {
   "cell_type": "markdown",
   "metadata": {},
   "source": [
    "## Sæt data sammen i DataLoader"
   ]
  },
  {
   "cell_type": "code",
   "execution_count": 9,
   "metadata": {},
   "outputs": [],
   "source": [
    "BATCH_SIZE = 4 # 250 har virket godt før\n",
    "\n",
    "train = torch.utils.data.TensorDataset(torch_X_train, torch_Y_train)\n",
    "train_loader = torch.utils.data.DataLoader(dataset=train, batch_size=BATCH_SIZE, shuffle=True)"
   ]
  },
  {
   "cell_type": "markdown",
   "metadata": {},
   "source": [
    "## Definér modellen"
   ]
  },
  {
   "cell_type": "code",
   "execution_count": 10,
   "metadata": {},
   "outputs": [],
   "source": [
    "class CNN(nn.Module):\n",
    "    def __init__(self):\n",
    "        super(CNN, self).__init__()\n",
    "        self.conv1 = nn.Sequential(\n",
    "            nn.Conv1d(\n",
    "                in_channels=input_channels,       \n",
    "                out_channels=layer_widths[0],      \n",
    "                kernel_size=kernel_sizes[0],        \n",
    "                stride=1,             \n",
    "                padding=int(kernel_sizes[0]/2),            \n",
    "            ),                        \n",
    "            nn.ReLU(),                \n",
    "        )\n",
    "        self.conv2 = nn.Sequential(   \n",
    "            nn.Conv1d(\n",
    "                in_channels=layer_widths[0],       \n",
    "                out_channels=layer_widths[1],      \n",
    "                kernel_size=kernel_sizes[1],        \n",
    "                stride=1,             \n",
    "                padding=int(kernel_sizes[1]/2),            \n",
    "            ),                        \n",
    "            nn.ReLU(),                \n",
    "        )\n",
    "        self.conv3 = nn.Sequential(   \n",
    "            nn.Conv1d(\n",
    "                in_channels=layer_widths[1],       \n",
    "                out_channels=layer_widths[2],      \n",
    "                kernel_size=kernel_sizes[2],        \n",
    "                stride=1,             \n",
    "                padding=int(kernel_sizes[2]/2),            \n",
    "            ),                        \n",
    "            nn.ReLU(),                \n",
    "        )\n",
    "#        self.conv4 = nn.Sequential(     \n",
    "#            nn.Conv1d(\n",
    "#                in_channels=layer_widths[2],       \n",
    "#                out_channels=layer_widths[3],       \n",
    "#                kernel_size=kernel_sizes[3],\n",
    "#                stride=1,             \n",
    "#                padding=int(kernel_sizes[3]/2),            \n",
    "#            ),\n",
    "#            nn.ReLU(),\n",
    "#        )\n",
    "#        self.conv5 = nn.Sequential(     \n",
    "#            nn.Conv1d(\n",
    "#                in_channels=layer_widths[3],\n",
    "#                out_channels=layer_widths[4],       \n",
    "#                kernel_size=kernel_sizes[4],\n",
    "#                stride=1,             \n",
    "#                padding=int(kernel_sizes[4]/2),            \n",
    "#            ),\n",
    "#            nn.ReLU(),\n",
    "#        )\n",
    "        self.out = nn.Sequential(     \n",
    "            nn.Conv1d(\n",
    "                in_channels=layer_widths[2],       \n",
    "                out_channels=11,       \n",
    "                kernel_size=kernel_sizes[3],\n",
    "                stride=1,             \n",
    "                padding=int(kernel_sizes[3]/2),            \n",
    "            ),\n",
    "            #nn.ReLU(),\n",
    "            #nn.Softmax(dim=1),\n",
    "        )\n",
    "#        self.soft = nn.Softmax(dim=1)\n",
    "#        self.relu = nn.ReLU()\n",
    "#        self.sig1 = torch.nn.Sigmoid()\n",
    "#        self.sig2 = torch.nn.Sigmoid()\n",
    "\n",
    "    def forward(self, x):\n",
    "        x = self.conv1(x)\n",
    "        x = self.conv2(x)\n",
    "        x = self.conv3(x)\n",
    "        #x = self.conv4(x)\n",
    "        #x = self.conv5(x)\n",
    "        output = self.out(x)\n",
    "        #secondary_structures = self.soft(output[:,:-2,:])\n",
    "        secondary_structures = output[:,:-2,:]\n",
    "        #rel_solvent_acc = self.sig1(output[:,-2,:])\n",
    "        #abs_solvent_acc = self.sig2(output[:,-1,:])\n",
    "        rel_solvent_acc = output[:,-2,:]\n",
    "        abs_solvent_acc = output[:,-1,:]\n",
    "        \n",
    "        return secondary_structures, rel_solvent_acc, abs_solvent_acc "
   ]
  },
  {
   "cell_type": "markdown",
   "metadata": {},
   "source": [
    "## Instantiér modellen"
   ]
  },
  {
   "cell_type": "code",
   "execution_count": 11,
   "metadata": {},
   "outputs": [
    {
     "name": "stdout",
     "output_type": "stream",
     "text": [
      "CNN(\n",
      "  (conv1): Sequential(\n",
      "    (0): Conv1d(44, 90, kernel_size=(5,), stride=(1,), padding=(2,))\n",
      "    (1): ReLU()\n",
      "  )\n",
      "  (conv2): Sequential(\n",
      "    (0): Conv1d(90, 90, kernel_size=(7,), stride=(1,), padding=(3,))\n",
      "    (1): ReLU()\n",
      "  )\n",
      "  (conv3): Sequential(\n",
      "    (0): Conv1d(90, 90, kernel_size=(9,), stride=(1,), padding=(4,))\n",
      "    (1): ReLU()\n",
      "  )\n",
      "  (out): Sequential(\n",
      "    (0): Conv1d(90, 11, kernel_size=(11,), stride=(1,), padding=(5,))\n",
      "  )\n",
      ")\n",
      "Model is on device: \"cuda:0\"\n"
     ]
    }
   ],
   "source": [
    "layer_width = 90\n",
    "kernel_size = 13\n",
    "layer_widths = [layer_width]*5\n",
    "kernel_sizes = [5, 7, 9, 11]  # Bedste so far : [5, 21, 11, 5]\n",
    "\n",
    "torch.manual_seed(0)\n",
    "if torch.cuda.is_available():\n",
    "    torch.cuda.manual_seed_all(0)\n",
    "cnn = CNN().to(device)\n",
    "print(cnn)\n",
    "print('Model is on device: \"%s\"' % device)\n",
    "# Hyperparametre\n",
    "LR = 0.0005       # learning rate\n",
    "\n",
    "optimizer = torch.optim.Adam(cnn.parameters(), lr=LR)\n",
    "sigge = nn.Sigmoid()\n",
    "#loss_func_train = nn.BCELoss()  #Binary Cross Entropy Loss\n",
    "loss_func_structure = nn.CrossEntropyLoss()\n",
    "loss_func_solvent   = nn.BCEWithLogitsLoss()\n",
    "has_run = False"
   ]
  },
  {
   "cell_type": "code",
   "execution_count": null,
   "metadata": {},
   "outputs": [],
   "source": []
  },
  {
   "cell_type": "markdown",
   "metadata": {},
   "source": [
    "## Funktion til at måle accuracy"
   ]
  },
  {
   "cell_type": "code",
   "execution_count": 12,
   "metadata": {},
   "outputs": [],
   "source": [
    "def CalculateAccuracy(calc_values_structure, calc_values_rel, calc_values_abs, real_values):\n",
    "    NoSeq = 8                                                                     # Hvilken værdi er padding?\n",
    "    real_labels           = real_values[:,:,0]                                    # Split de korrekte værdier ud i sæt\n",
    "    real_values_relsolv   = real_values[:,:,1]\n",
    "    real_values_abssolv   = real_values[:,:,2]\n",
    "    \n",
    "    #real_labels = np.argmax(real_values_structure, axis=2)                        # Kollaps one-hot til rene labels\n",
    "    real_mask = real_labels == NoSeq                                              # Lav maske af dem der er NoSeq\n",
    "    \n",
    "    calc_values_structure = calc_values_structure.cpu().detach().numpy()          # Omform til numpy\n",
    "    calc_values_structure = np.flip(calc_values_structure, 1)                     # Omgør spejlning og \n",
    "    calc_values_structure = np.rot90(calc_values_structure, k=-1, axes=(1,2))     # rotation\n",
    "    \n",
    "    calc_relsolv = sigge(calc_values_rel).cpu().detach().numpy()                         # Kør sigmoid funktion og omform til numpy\n",
    "    #calc_relsolv = np.flip(calc_relsolv, 1)                   # Omgør spejlning og       # Find i øvrigt lige ud af hvorfor de ikke skal rettes!\n",
    "    #calc_relsolv = np.rot90(calc_relsolv, k=-1)#, axes=(1,2))   # rotation\n",
    "    \n",
    "    calc_abssolv = sigge(calc_values_abs).cpu().detach().numpy()                         # Kør sigmoid funktion og omform til numpy\n",
    "    #calc_abssolv = np.flip(calc_abssolv, 1)                   # Omgør spejlning og \n",
    "    #calc_abssolv = np.rot90(calc_abssolv, k=-1)#, axes=(1,2))   # rotation\n",
    "    \n",
    "    calc_labels  = np.argmax(calc_values_structure, axis=2)                       # Kollaps one-hot til rene labels\n",
    "    calc_relsolv = np.around(calc_relsolv)                                        # Afrund til enten 0 eller 1\n",
    "    calc_abssolv = np.around(calc_abssolv)                                        # Afrund til enten 0 eller 1\n",
    "    \n",
    "    correct_structures = calc_labels == real_labels                               # Lav en matrice af korrekte forudsigelser\n",
    "    correct_structures_masked = np.ma.masked_array(correct_structures, real_mask) # Filtrér dem er er NoSeq\n",
    "    \n",
    "    correct_relsolv = calc_relsolv == real_values_relsolv                         # Lav en matrice af korrekte forudsigelser\n",
    "    correct_relsolv_masked = np.ma.masked_array(correct_relsolv, real_mask)       # Filtrér dem er er NoSeq\n",
    "    \n",
    "    correct_abssolv = calc_abssolv == real_values_abssolv                         # Lav en matrice af korrekte forudsigelser\n",
    "    correct_abssolv_masked = np.ma.masked_array(correct_abssolv, real_mask)       # Filtrér dem er er NoSeq\n",
    "    \n",
    "    structure_mean = np.mean(correct_structures_masked)                           # Tag gennemsnittet af struktur-sættet\n",
    "    relsolv_mean   = np.mean(correct_relsolv_masked)                              # Tag gennemsnittet af relativ solvent-sættet\n",
    "    abssolv_mean   = np.mean(correct_abssolv_masked)                              # Tag gennemsnittet af absolut solvent-sættet\n",
    "    \n",
    "    return structure_mean, relsolv_mean, abssolv_mean"
   ]
  },
  {
   "cell_type": "markdown",
   "metadata": {},
   "source": [
    "## Sammensat loss-funktion\n",
    "Tager som input en loss-funktion (som i dette tilfælde er Binary Cross Entropy), tre beregnede matricer af hhv. sekundærstrukturer og relativ- og absolut solvent accessibility, anvender loss-funktionen på dem alle og returnerer summen."
   ]
  },
  {
   "cell_type": "code",
   "execution_count": 13,
   "metadata": {},
   "outputs": [],
   "source": [
    "def handleLoss(calc_struct, calc_rel, calc_abs, correct, verbose=False):\n",
    "    #print(calculated[:,9,:])\n",
    "    #print(second_x)\n",
    "    #first_x  = calculated_struct\n",
    "    #second_x = calculated_rel\n",
    "    #third_x  = calculated_abs\n",
    "    \n",
    "    correct_struct  = correct[:,0,:]\n",
    "    correct_rel     = correct[:,1,:].type(torch.FloatTensor).to(device)\n",
    "    correct_abs     = correct[:,2,:].type(torch.FloatTensor).to(device)\n",
    "    \n",
    "    loss1 = loss_func_structure(calc_struct,  correct_struct)\n",
    "    loss2 = loss_func_solvent(calc_rel, correct_rel)\n",
    "    loss3 = loss_func_solvent(calc_abs,  correct_abs)\n",
    "    if verbose:\n",
    "        print('Secondary structure loss: %.4f' % loss1.item())\n",
    "        print('Relative solvent accessibility loss: %.4f' % loss2.item())\n",
    "        print('Absolute solvent accessibility loss: %.4f' % loss3.item())\n",
    "    loss_sum = (loss1 + loss2 + loss3)\n",
    "    #loss1.backward(retain_graph=True)\n",
    "    #loss3.backward(retain_graph=True)\n",
    "    #loss2.backward(retain_graph=True)\n",
    "    return loss_sum"
   ]
  },
  {
   "cell_type": "markdown",
   "metadata": {},
   "source": [
    "## Endelig test af accuracy"
   ]
  },
  {
   "cell_type": "code",
   "execution_count": 14,
   "metadata": {},
   "outputs": [],
   "source": [
    "def TestsetTest(model):\n",
    "    print('Running on the test set:')\n",
    "    a, b, c = model(torch_X_test)\n",
    "    tloss = handleLoss(a, b, c, torch_Y_test, verbose=True)\n",
    "    x, y, z = CalculateAccuracy(a, b, c, y_test_unrot)\n",
    "    testRes = '%.3f%%, %.3f%%, %.3f%%' % (x*100, y*100, z*100)\n",
    "    #sys.stdout.write('Total loss: %.5f,\\tAccuracy (struct, rel, abs): %.3f%%, %.3f%%, %.3f%%' % (tloss.item(), x*100, y*100, z*100))\n",
    "    return testRes"
   ]
  },
  {
   "cell_type": "code",
   "execution_count": 15,
   "metadata": {},
   "outputs": [],
   "source": [
    "# Til visualisering senere\n",
    "losses       = []\n",
    "acc_structs1 = []\n",
    "acc_structs2 = []\n",
    "acc_structs3 = []\n",
    "acc_structs4 = []\n",
    "acc_structs5 = []\n",
    "acc_structs6 = []\n",
    "acc_structs7 = []\n",
    "acc_structs8 = []\n",
    "acc_rels     = []\n",
    "acc_abss     = []\n",
    "steps        = []\n",
    "\n",
    "rel_accs_v_multi = []\n",
    "rel_accs_t_multi = []\n",
    "abs_accs_v_multi = []\n",
    "abs_accs_t_multi = []\n",
    "acc_struct_v_multi = []\n",
    "acc_struct_t_multi = []"
   ]
  },
  {
   "cell_type": "code",
   "execution_count": 16,
   "metadata": {},
   "outputs": [],
   "source": [
    "steps_cum    = []"
   ]
  },
  {
   "cell_type": "code",
   "execution_count": 17,
   "metadata": {},
   "outputs": [],
   "source": [
    "epochs       = []"
   ]
  },
  {
   "cell_type": "code",
   "execution_count": 18,
   "metadata": {},
   "outputs": [],
   "source": [
    "acc_structs2 = []"
   ]
  },
  {
   "cell_type": "markdown",
   "metadata": {},
   "source": [
    "## Træn modellen"
   ]
  },
  {
   "cell_type": "code",
   "execution_count": 19,
   "metadata": {},
   "outputs": [
    {
     "name": "stdout",
     "output_type": "stream",
     "text": [
      "\n",
      "Epoch:  1\n",
      "1300\t66.4307\t81.3463\t79.5676\t66.4980\t81.0169\t79.3959\t\n",
      "Epoch:  2\n",
      "1300\t68.1730\t81.8838\t80.0828\t68.2741\t81.4951\t79.7965\t\n",
      "Epoch:  3\n",
      "1300\t68.7044\t82.0015\t80.3363\t68.8151\t81.5523\t79.7227\t\n",
      "Epoch:  4\n",
      "1300\t69.7874\t82.1171\t80.6872\t69.9062\t81.9123\t80.2138\t\n",
      "Epoch:  5\n",
      "1300\t69.7773\t82.6038\t81.0847\t69.7733\t82.2502\t80.5055\t\n",
      "Epoch:  6\n",
      "1300\t69.8463\t82.5024\t80.8920\t69.8250\t82.1819\t80.4593\t\n",
      "Epoch:  7\n",
      "1300\t70.6434\t82.8635\t81.3626\t70.8810\t82.3905\t80.7289\t\n",
      "Epoch:  8\n",
      "1300\t70.7427\t82.7823\t81.1496\t70.8515\t82.4274\t80.7104\t\n",
      "Epoch:  9\n",
      "1300\t70.7225\t82.9000\t81.4599\t70.7924\t82.3425\t80.6717\t\n",
      "Epoch:  10\n",
      "1300\t71.3715\t83.1008\t81.6546\t71.3149\t82.5844\t80.7917\t\n",
      "Epoch:  11\n",
      "1300\t71.3695\t83.1434\t81.5390\t71.4423\t82.5327\t80.8212\t\n",
      "Epoch:  12\n",
      "1300\t71.5398\t83.1758\t81.6019\t71.3223\t82.6675\t80.9338\t\n",
      "Epoch:  13\n",
      "1300\t71.5520\t83.1535\t81.6688\t71.6694\t82.5825\t80.8618\t\n",
      "Epoch:  14\n",
      "1300\t71.3086\t82.9081\t81.4133\t71.1303\t82.5622\t80.8046\t\n",
      "Epoch:  15\n",
      "1300\t71.5378\t83.2285\t81.7763\t71.5328\t82.6896\t80.7252\t\n",
      "Epoch:  16\n",
      "1300\t71.7508\t83.1109\t81.6445\t71.7211\t82.5068\t80.8858\t\n",
      "Epoch:  17\n",
      "1300\t71.6453\t83.0805\t81.5918\t71.4478\t82.6065\t80.7067\t\n",
      "Epoch:  18\n",
      "1300\t71.4080\t82.5207\t81.1212\t71.2097\t82.3591\t80.5701\t\n",
      "Epoch:  19\n",
      "1300\t71.6027\t82.7864\t81.3179\t71.1284\t82.5013\t80.6698\t\n",
      "Epoch:  20\n",
      "1300\t71.5358\t82.9324\t81.4478\t71.4127\t82.5733\t80.7474\t\n",
      "Done training.\n",
      "\tValidation\t\tTest\n",
      "sec\trel\tabs\tsec\trel\tabs\n",
      "71.6575\t83.0318\t81.3828\t71.4681\t82.4810\t80.6809\n",
      "0:03:04.373424\n"
     ]
    }
   ],
   "source": [
    "EPOCH = 20\n",
    "\n",
    "if has_run:\n",
    "    print('Du har ikke genstartet modellen')\n",
    "    print(1/0)\n",
    "\n",
    "has_run = True\n",
    "\n",
    "data_array = acc_structs5\n",
    "\n",
    "if len(data_array) != 0:\n",
    "    print('Du har glemt at skifte array')\n",
    "    print(1/0)\n",
    "\n",
    "\n",
    "time_start = datetime.datetime.now()\n",
    "\n",
    "step_cum = -1\n",
    "for epoch in range(EPOCH):\n",
    "    print('\\nEpoch: ', epoch+1)\n",
    "    epochs.append(step_cum)\n",
    "    for step, (b_x, b_y) in enumerate(train_loader):\n",
    "        step_cum += 1\n",
    "        a, b, c = cnn(b_x)\n",
    "        optimizer.zero_grad()           # clear gradients for this training step\n",
    "        loss = handleLoss(a, b, c, b_y)\n",
    "        loss.backward()                 # backpropagation, compute gradients\n",
    "        optimizer.step()                # apply gradients\n",
    "        if step % 100 == 0:\n",
    "            #sys.stdout.write('.')\n",
    "            v_a, v_b, v_c = cnn(torch_X_validation)\n",
    "            vloss = handleLoss(v_a, v_b, v_c, torch_Y_validation)\n",
    "            acc_struc_v, acc_rel_v, acc_abs_v = CalculateAccuracy(v_a, v_b, v_c, y_validation_unrot)\n",
    "            \n",
    "            t_a, t_b, t_c = cnn(torch_X_test)\n",
    "            vloss = handleLoss(t_a, t_b, t_c, torch_Y_test)\n",
    "            acc_struc_t, acc_rel_t, acc_abs_t = CalculateAccuracy(t_a, t_b, t_c, y_test_unrot)\n",
    "            sys.stdout.write('\\r%d\\t%.4f\\t%.4f\\t%.4f\\t%.4f\\t%.4f\\t%.4f\\t' % (step, acc_struc_v*100, acc_rel_v*100, acc_abs_v*100, acc_struc_t*100, acc_rel_t*100, acc_abs_t*100))\n",
    "            \n",
    "            acc_struct_v_multi.append(acc_struc_v)\n",
    "            acc_struct_t_multi.append(acc_struc_t)\n",
    "            rel_accs_v_multi.append(acc_rel_v)\n",
    "            rel_accs_t_multi.append(acc_rel_t)\n",
    "            abs_accs_v_multi.append(acc_abs_v)\n",
    "            abs_accs_t_multi.append(acc_abs_t)\n",
    "            #validresults = '%.2f%%, %.2f%%, %.2f%%' % (acc_struc*100, acc_rel*100, acc_abs*100)\n",
    "            #sys.stdout.write('\\rStep [%d]:\\tTrain:[Loss: %.5f] \\t Validation:[Loss: %.4f, Accuracies (struc, rel, abs): %.2f%%, %.2f%%, %.2f%%]' % (step, loss.item(), vloss.item(), acc_struc*100, acc_rel*100, acc_abs*100))\n",
    "            #epochs.append(epoch)\n",
    "            #losses.append(vloss.item())\n",
    "            #data_array.append(acc_struc)\n",
    "            #acc_rels.append(acc_rel)\n",
    "            #acc_abss.append(acc_abs)\n",
    "            #steps.append(step)\n",
    "            #steps_cum.append(step_cum)\n",
    "    #v_a, v_b, v_c = cnn(torch_X_validation)\n",
    "    #vloss = handleLoss(v_a, v_b, v_c, torch_Y_validation)\n",
    "    #acc_struc, acc_rel, acc_abs = CalculateAccuracy(v_a, v_b, v_c, y_validation_unrot)\n",
    "    #validresults = '%.2f%%, %.2f%%, %.2f%%' % (acc_struc*100, acc_rel*100, acc_abs*100)\n",
    "    #sys.stdout.write('\\rEpoch [%d]:\\tTrain:[Loss: %.5f] \\t Validation:[Loss: %.4f, Accuracies (struc, rel, abs): %.2f%%, %.2f%%, %.2f%%]\\n' % (epoch+1, loss.item(), vloss.item(), acc_struc*100, acc_rel*100, acc_abs*100))\n",
    "            \n",
    "            \n",
    "print('\\nDone training.')\n",
    "time_end = datetime.datetime.now()\n",
    "#testresults = TestsetTest(cnn)\n",
    "#text_to_print = '%s\\t%s || %s' % (str(kernel_sizes), validresults, testresults)\n",
    "#print(text_to_print)\n",
    "v_a, v_b, v_c = cnn(torch_X_validation)\n",
    "vloss = handleLoss(v_a, v_b, v_c, torch_Y_validation)\n",
    "acc_struc_v, acc_rel_v, acc_abs_v = CalculateAccuracy(v_a, v_b, v_c, y_validation_unrot)\n",
    "\n",
    "t_a, t_b, t_c = cnn(torch_X_test)\n",
    "vloss = handleLoss(t_a, t_b, t_c, torch_Y_test)\n",
    "acc_struc_t, acc_rel_t, acc_abs_t = CalculateAccuracy(t_a, t_b, t_c, y_test_unrot)\n",
    "print('\\tValidation\\t\\tTest\\nsec\\trel\\tabs\\tsec\\trel\\tabs')\n",
    "sys.stdout.write('%.4f\\t%.4f\\t%.4f\\t%.4f\\t%.4f\\t%.4f\\n' % (acc_struc_v*100, acc_rel_v*100, acc_abs_v*100, acc_struc_t*100, acc_rel_t*100, acc_abs_t*100))\n",
    "\n",
    "print(time_end - time_start)"
   ]
  },
  {
   "cell_type": "code",
   "execution_count": 70,
   "metadata": {},
   "outputs": [],
   "source": [
    "matplotlib.rcParams['figure.figsize'] = (15,8) # Til rapport\n",
    "#matplotlib.rcParams['figure.figsize'] = (20,10) # Til undervejs"
   ]
  },
  {
   "cell_type": "code",
   "execution_count": 233,
   "metadata": {},
   "outputs": [
    {
     "name": "stdout",
     "output_type": "stream",
     "text": [
      "Gemmer som: ../graphs/new/kernel_sizes_1.png\n"
     ]
    },
    {
     "data": {
      "image/png": "[encoded data removed]",
      "text/plain": [
       "<Figure size 1080x576 with 1 Axes>"
      ]
     },
     "metadata": {},
     "output_type": "display_data"
    }
   ],
   "source": [
    "#steps = np.arange(0, len(acc_structs1)*50, 50)\n",
    "savefile = 0\n",
    "filename = '../graphs/new/kernel_sizes_2.png'\n",
    "prefix = 'Kernel sizes: '\n",
    "\n",
    "LW=2\n",
    "plt.plot(steps_cum[3:], acc_structs1[3:], label=('%s %s' % (prefix, '[5, 7, 9, 11]')))#, lw=LW)\n",
    "plt.plot(steps_cum[3:], acc_structs5[3:], label=('%s %s' % (prefix, '[7, 9, 11, 13]')))#, lw=LW)\n",
    "plt.plot(steps_cum[3:], acc_structs2[3:], label=('%s %s' % (prefix, '[11, 9, 7, 5]')))#, lw=LW)\n",
    "plt.plot(steps_cum[3:], acc_structs3[3:], label=('%s %s' % (prefix, '[7, 9, 9, 7]')))#, lw=LW)\n",
    "plt.plot(steps_cum[3:], acc_structs4[3:], label=('%s %s' % (prefix, '[9, 7, 7, 9]')))#, lw=LW)\n",
    "#plt.plot(steps_cum[3:], acc_structs6[3:], label=('%s %s' % (prefix, '')))#, lw=LW)\n",
    "#plt.plot(steps_cum[3:], acc_structs7[3:], label=('%s %s' % (prefix, '')))#, lw=LW)\n",
    "\n",
    "for i in epochs:\n",
    "    plt.axvline(x=i, alpha=0.25, c='g')\n",
    "\n",
    "plt.title('3 Hidden layers, Layer size: 80, Batch size: 4')\n",
    "plt.xlabel('Training steps')\n",
    "plt.ylabel('Accuracy (%)')\n",
    "plt.legend(prop={'size': 15})\n",
    "#plt.show()\n",
    "if savefile:\n",
    "    my_file = Path(filename)\n",
    "    if my_file.is_file():\n",
    "        print('Filen findes allerede')\n",
    "    else:\n",
    "        print('Gemmer som:', filename)\n",
    "        plt.savefig(filename)\n",
    "\n",
    "#plt.savefig('../graphs/new/kernel_size_variations_1.png')"
   ]
  },
  {
   "cell_type": "code",
   "execution_count": 20,
   "metadata": {},
   "outputs": [
    {
     "name": "stdout",
     "output_type": "stream",
     "text": [
      "Stored 'rel_accs_v_multi' (list)\n",
      "Stored 'rel_accs_t_multi' (list)\n",
      "Stored 'abs_accs_v_multi' (list)\n",
      "Stored 'abs_accs_t_multi' (list)\n",
      "Stored 'acc_struct_v_multi' (list)\n",
      "Stored 'acc_struct_t_multi' (list)\n"
     ]
    }
   ],
   "source": [
    "\n",
    "%store rel_accs_v_multi\n",
    "%store rel_accs_t_multi\n",
    "%store abs_accs_v_multi\n",
    "%store abs_accs_t_multi\n",
    "%store acc_struct_v_multi\n",
    "%store acc_struct_t_multi"
   ]
  },
  {
   "cell_type": "code",
   "execution_count": null,
   "metadata": {},
   "outputs": [],
   "source": [
    "%store epochs"
   ]
  },
  {
   "cell_type": "code",
   "execution_count": 22,
   "metadata": {},
   "outputs": [
    {
     "name": "stdout",
     "output_type": "stream",
     "text": [
      "Model saved as:\n",
      "/home/simonsen/Documents/Uni/bachelor/git/Bachelor19/checkpoints/multi_model_state_20190603-1420.pt\n"
     ]
    }
   ],
   "source": [
    "SaveState(cnn)"
   ]
  }
 ],
 "metadata": {
  "kernelspec": {
   "display_name": "Python 3",
   "language": "python",
   "name": "python3"
  },
  "language_info": {
   "codemirror_mode": {
    "name": "ipython",
    "version": 3
   },
   "file_extension": ".py",
   "mimetype": "text/x-python",
   "name": "python",
   "nbconvert_exporter": "python",
   "pygments_lexer": "ipython3",
   "version": "3.6.7"
  }
 },
 "nbformat": 4,
 "nbformat_minor": 2
}
