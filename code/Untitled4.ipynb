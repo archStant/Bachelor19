{
 "cells": [
  {
   "cell_type": "code",
   "execution_count": 84,
   "metadata": {},
   "outputs": [],
   "source": [
    "import numpy as np\n",
    "import collections\n",
    "import sklearn.preprocessing\n",
    "#from scipy.special import softmax\n",
    "import scipy.special"
   ]
  },
  {
   "cell_type": "code",
   "execution_count": 7,
   "metadata": {},
   "outputs": [
    {
     "name": "stdout",
     "output_type": "stream",
     "text": [
      "[0 1 2 3 4 5 6 7 8 9]\n",
      "[[0 1 2 3 4]\n",
      " [5 6 7 8 9]]\n",
      "[[0 1]\n",
      " [2 3]\n",
      " [4 5]\n",
      " [6 7]\n",
      " [8 9]]\n"
     ]
    }
   ],
   "source": [
    "x = np.arange(10)\n",
    "print(x)\n",
    "x = x.reshape(2,5)\n",
    "print(x)\n",
    "x = x.reshape(5,2)\n",
    "print(x)"
   ]
  },
  {
   "cell_type": "code",
   "execution_count": 26,
   "metadata": {},
   "outputs": [
    {
     "name": "stdout",
     "output_type": "stream",
     "text": [
      "[[[  0   1   2   3   4]\n",
      "  [  5   6   7   8   9]\n",
      "  [ 10  11  12  13  14]\n",
      "  [ 15  16  17  18  19]\n",
      "  [ 20  21  22  23  24]\n",
      "  [ 25  26  27  28  29]\n",
      "  [ 30  31  32  33  34]]\n",
      "\n",
      " [[ 35  36  37  38  39]\n",
      "  [ 40  41  42  43  44]\n",
      "  [ 45  46  47  48  49]\n",
      "  [ 50  51  52  53  54]\n",
      "  [ 55  56  57  58  59]\n",
      "  [ 60  61  62  63  64]\n",
      "  [ 65  66  67  68  69]]\n",
      "\n",
      " [[ 70  71  72  73  74]\n",
      "  [ 75  76  77  78  79]\n",
      "  [ 80  81  82  83  84]\n",
      "  [ 85  86  87  88  89]\n",
      "  [ 90  91  92  93  94]\n",
      "  [ 95  96  97  98  99]\n",
      "  [100 101 102 103 104]]]\n",
      "[[[  4   9  14  19  24  29  34]\n",
      "  [  3   8  13  18  23  28  33]\n",
      "  [  2   7  12  17  22  27  32]\n",
      "  [  1   6  11  16  21  26  31]\n",
      "  [  0   5  10  15  20  25  30]]\n",
      "\n",
      " [[ 39  44  49  54  59  64  69]\n",
      "  [ 38  43  48  53  58  63  68]\n",
      "  [ 37  42  47  52  57  62  67]\n",
      "  [ 36  41  46  51  56  61  66]\n",
      "  [ 35  40  45  50  55  60  65]]\n",
      "\n",
      " [[ 74  79  84  89  94  99 104]\n",
      "  [ 73  78  83  88  93  98 103]\n",
      "  [ 72  77  82  87  92  97 102]\n",
      "  [ 71  76  81  86  91  96 101]\n",
      "  [ 70  75  80  85  90  95 100]]]\n",
      "(3, 5, 7)\n",
      "[[[  0   5  10  15  20  25  30]\n",
      "  [  1   6  11  16  21  26  31]\n",
      "  [  2   7  12  17  22  27  32]\n",
      "  [  3   8  13  18  23  28  33]\n",
      "  [  4   9  14  19  24  29  34]]\n",
      "\n",
      " [[ 35  40  45  50  55  60  65]\n",
      "  [ 36  41  46  51  56  61  66]\n",
      "  [ 37  42  47  52  57  62  67]\n",
      "  [ 38  43  48  53  58  63  68]\n",
      "  [ 39  44  49  54  59  64  69]]\n",
      "\n",
      " [[ 70  75  80  85  90  95 100]\n",
      "  [ 71  76  81  86  91  96 101]\n",
      "  [ 72  77  82  87  92  97 102]\n",
      "  [ 73  78  83  88  93  98 103]\n",
      "  [ 74  79  84  89  94  99 104]]]\n",
      "(3, 5, 7)\n"
     ]
    }
   ],
   "source": [
    "x = np.arange(3*7*5)\n",
    "x = x.reshape(3,7,5)\n",
    "print(x)\n",
    "x = np.rot90(x, axes=(1,2))\n",
    "print(x)\n",
    "print(x.shape)\n",
    "x = np.flip(x, 1)\n",
    "print(x)\n",
    "print(x.shape)"
   ]
  },
  {
   "cell_type": "code",
   "execution_count": 80,
   "metadata": {},
   "outputs": [
    {
     "name": "stdout",
     "output_type": "stream",
     "text": [
      "[[[0 1 0 0 0]\n",
      "  [1 0 0 0 0]\n",
      "  [0 0 0 1 0]]\n",
      "\n",
      " [[0 0 1 0 0]\n",
      "  [0 0 0 0 1]\n",
      "  [1 0 0 0 0]]]\n",
      "\n",
      "\n",
      "[[[0 1 0 0 0]\n",
      "  [1 0 0 0 0]\n",
      "  [0 0 1 0 0]]\n",
      "\n",
      " [[0 0 1 0 0]\n",
      "  [0 0 0 0 1]\n",
      "  [0 1 0 0 0]]]\n"
     ]
    }
   ],
   "source": [
    "a = np.array([[[0,1,0,0,0],[1,0,0,0,0],[0,0,0,1,0]],[[0,0,1,0,0],[0,0,0,0,1],[1,0,0,0,0]]])\n",
    "b = np.array([[[0,1,0,0,0],[1,0,0,0,0],[0,0,1,0,0]],[[0,0,1,0,0],[0,0,0,0,1],[0,1,0,0,0]]])\n",
    "print(a)\n",
    "print('\\n')\n",
    "print(b)\n",
    "nul = np.array([ 0,  0,  0,  0,  0])"
   ]
  },
  {
   "cell_type": "code",
   "execution_count": null,
   "metadata": {},
   "outputs": [],
   "source": []
  },
  {
   "cell_type": "code",
   "execution_count": 93,
   "metadata": {},
   "outputs": [
    {
     "name": "stdout",
     "output_type": "stream",
     "text": [
      "{-1: 2, 0: 26, 1: 2}\n",
      "26\n"
     ]
    }
   ],
   "source": [
    "dif = a-b\n",
    "unique, counts = np.unique(dif, return_counts=True)\n",
    "x = dict(zip(unique, counts))\n",
    "print(x)\n",
    "print(x[0])\n",
    "#print(dif.flatten())\n",
    "#x = collections.Counter(dif.flatten())\n",
    "#print(x)"
   ]
  }
 ],
 "metadata": {
  "kernelspec": {
   "display_name": "Python 3",
   "language": "python",
   "name": "python3"
  },
  "language_info": {
   "codemirror_mode": {
    "name": "ipython",
    "version": 3
   },
   "file_extension": ".py",
   "mimetype": "text/x-python",
   "name": "python",
   "nbconvert_exporter": "python",
   "pygments_lexer": "ipython3",
   "version": "3.6.7"
  }
 },
 "nbformat": 4,
 "nbformat_minor": 2
}
